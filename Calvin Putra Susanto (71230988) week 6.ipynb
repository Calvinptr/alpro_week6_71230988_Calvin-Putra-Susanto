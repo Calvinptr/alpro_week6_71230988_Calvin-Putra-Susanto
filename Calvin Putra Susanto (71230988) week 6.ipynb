{
 "cells": [
  {
   "cell_type": "code",
   "execution_count": 1,
   "id": "a53f5c04",
   "metadata": {},
   "outputs": [
    {
     "name": "stdout",
     "output_type": "stream",
     "text": [
      "Masukkan sebuah bilangan: 10\n",
      "7\n"
     ]
    }
   ],
   "source": [
    "prima = int(input(\"Masukkan sebuah bilangan: \"))\n",
    "bil_prima = 0\n",
    "for i in range(2, prima):\n",
    "    if i == 2 or i % 2 == 0:\n",
    "        continue\n",
    "    prima_akhir  = True\n",
    "    for j in range(2, int(i**0.5)+1):\n",
    "        if i % j == 0:\n",
    "            prima_akhir = False\n",
    "            break\n",
    "    if prima_akhir:\n",
    "        bil_prima = i   \n",
    "print(bil_prima)"
   ]
  },
  {
   "cell_type": "code",
   "execution_count": 2,
   "id": "bfed1b02",
   "metadata": {},
   "outputs": [
    {
     "name": "stdout",
     "output_type": "stream",
     "text": [
      "Masukkan nilai n: 5\n",
      "120 5 4 3 2 1 \n",
      "24 4 3 2 1 \n",
      "6 3 2 1 \n",
      "2 2 1 \n",
      "1 1 \n"
     ]
    }
   ],
   "source": [
    "faktorial = int(input(\"Masukkan nilai n: \"))\n",
    "for i in range(faktorial, 0, -1):\n",
    "    fktrl = 1\n",
    "    for j in range(2, i + 1):\n",
    "        fktrl *= j\n",
    "    print(fktrl, end=' ')\n",
    "\n",
    "    for k in range(i, 0 , -1):\n",
    "        print(k, end=' ')\n",
    "\n",
    "    print()"
   ]
  },
  {
   "cell_type": "code",
   "execution_count": 5,
   "id": "db4d3017",
   "metadata": {},
   "outputs": [
    {
     "name": "stdout",
     "output_type": "stream",
     "text": [
      "Masukkan tinggi:4\n",
      "Masukkan lebar:5\n",
      "1  2  3  4  5  \n",
      "6  7  8  9  10  \n",
      "11  12  13  14  15  \n",
      "16  17  18  19  20  \n"
     ]
    }
   ],
   "source": [
    "tinggi = int(input(\"Masukkan tinggi:\"))\n",
    "lebar = int(input(\"Masukkan lebar:\"))\n",
    "hasil = 1\n",
    "for i in range(1, tinggi+1):\n",
    "        for j in range(1, lebar+1):\n",
    "            print(hasil, \" \", end=\"\")\n",
    "            hasil += 1            \n",
    "        print()"
   ]
  },
  {
   "cell_type": "code",
   "execution_count": null,
   "id": "f11afbc9",
   "metadata": {},
   "outputs": [],
   "source": []
  }
 ],
 "metadata": {
  "kernelspec": {
   "display_name": "Python 3 (ipykernel)",
   "language": "python",
   "name": "python3"
  },
  "language_info": {
   "codemirror_mode": {
    "name": "ipython",
    "version": 3
   },
   "file_extension": ".py",
   "mimetype": "text/x-python",
   "name": "python",
   "nbconvert_exporter": "python",
   "pygments_lexer": "ipython3",
   "version": "3.11.5"
  }
 },
 "nbformat": 4,
 "nbformat_minor": 5
}
